{
  "nbformat": 4,
  "nbformat_minor": 0,
  "metadata": {
    "colab": {
      "provenance": [],
      "collapsed_sections": []
    },
    "kernelspec": {
      "name": "python3",
      "display_name": "Python 3"
    },
    "language_info": {
      "name": "python"
    }
  },
  "cells": [
    {
      "cell_type": "markdown",
      "source": [
        "# Basic Python"
      ],
      "metadata": {
        "id": "McSxJAwcOdZ1"
      }
    },
    {
      "cell_type": "markdown",
      "source": [
        "## 1. Split this string"
      ],
      "metadata": {
        "id": "CU48hgo4Owz5"
      }
    },
    {
      "cell_type": "code",
      "source": [
        "s = \"Hi there Sam!\""
      ],
      "metadata": {
        "id": "s07c7JK7Oqt-"
      },
      "execution_count": 1,
      "outputs": []
    },
    {
      "cell_type": "code",
      "source": [
        "x=s.split()\n",
        "x"
      ],
      "metadata": {
        "id": "6mGVa3SQYLkb",
        "outputId": "5ad492ff-ac6d-4772-afbf-39a8318f3796",
        "colab": {
          "base_uri": "https://localhost:8080/"
        }
      },
      "execution_count": 2,
      "outputs": [
        {
          "output_type": "execute_result",
          "data": {
            "text/plain": [
              "['Hi', 'there', 'Sam!']"
            ]
          },
          "metadata": {},
          "execution_count": 2
        }
      ]
    },
    {
      "cell_type": "markdown",
      "source": [
        "## 2. Use .format() to print the following string. \n",
        "\n",
        "### Output should be: The diameter of Earth is 12742 kilometers."
      ],
      "metadata": {
        "id": "GH1QBn8HP375"
      }
    },
    {
      "cell_type": "code",
      "source": [
        "planet = \"Earth\"\n",
        "diameter = 12742"
      ],
      "metadata": {
        "id": "_ZHoml3kPqic"
      },
      "execution_count": 6,
      "outputs": []
    },
    {
      "cell_type": "code",
      "source": [
        "s=\"The diameter of {}is{}kilometer\"\n",
        "print(s.format(planet,diameter))"
      ],
      "metadata": {
        "id": "HyRyJv6CYPb4",
        "outputId": "10b89d5f-f9a5-4382-ac94-bec463ae9afe",
        "colab": {
          "base_uri": "https://localhost:8080/"
        }
      },
      "execution_count": 7,
      "outputs": [
        {
          "output_type": "stream",
          "name": "stdout",
          "text": [
            "The diameter of Earthis12742kilometer\n"
          ]
        }
      ]
    },
    {
      "cell_type": "markdown",
      "source": [
        "## 3. In this nest dictionary grab the word \"hello\""
      ],
      "metadata": {
        "id": "KE74ZEwkRExZ"
      }
    },
    {
      "cell_type": "code",
      "source": [
        "d = {'k1':[1,2,3,{'tricky':['oh','man','inception',{'target':[1,2,3,'hello']}]}]}"
      ],
      "metadata": {
        "id": "fcVwbCc1QrQI"
      },
      "execution_count": null,
      "outputs": []
    },
    {
      "cell_type": "code",
      "source": [],
      "metadata": {
        "id": "MvbkMZpXYRaw"
      },
      "execution_count": null,
      "outputs": []
    },
    {
      "cell_type": "markdown",
      "source": [
        "# Numpy"
      ],
      "metadata": {
        "id": "bw0vVp-9ddjv"
      }
    },
    {
      "cell_type": "code",
      "source": [
        "from pickle import NONE\n",
        "import numpy as np\n",
        "a=np.array([1,2,3])\n",
        "b=np.array([4,5,6])\n",
        "x=np.concatenate((a,b))\n",
        "print(x)\n"
      ],
      "metadata": {
        "id": "LLiE_TYrhA1O",
        "outputId": "2d4b99b4-e596-495b-c856-3ee240702a4d",
        "colab": {
          "base_uri": "https://localhost:8080/"
        }
      },
      "execution_count": 31,
      "outputs": [
        {
          "output_type": "stream",
          "name": "stdout",
          "text": [
            "[1 2 3 4 5 6]\n"
          ]
        }
      ]
    },
    {
      "cell_type": "markdown",
      "source": [
        "## 4.1 Create an array of 10 zeros? \n",
        "## 4.2 Create an array of 10 fives?"
      ],
      "metadata": {
        "id": "wOg8hinbgx30"
      }
    },
    {
      "cell_type": "code",
      "source": [
        "import numpy as np\n",
        "a=np.zeros(10)\n",
        "print(a)"
      ],
      "metadata": {
        "id": "NHrirmgCYXvU",
        "outputId": "2d05875d-9bdc-44e4-8c31-f16a87a6fa43",
        "colab": {
          "base_uri": "https://localhost:8080/"
        }
      },
      "execution_count": 26,
      "outputs": [
        {
          "output_type": "stream",
          "name": "stdout",
          "text": [
            "[0. 0. 0. 0. 0. 0. 0. 0. 0. 0.]\n"
          ]
        }
      ]
    },
    {
      "cell_type": "code",
      "source": [
        "import numpy as np\n",
        "b=np.ones(10)\n",
        "print(a)"
      ],
      "metadata": {
        "id": "e4005lsTYXxx",
        "outputId": "875ea3b3-45fb-42ce-be20-d587fed88852",
        "colab": {
          "base_uri": "https://localhost:8080/"
        }
      },
      "execution_count": 27,
      "outputs": [
        {
          "output_type": "stream",
          "name": "stdout",
          "text": [
            "[0. 0. 0. 0. 0. 0. 0. 0. 0. 0.]\n"
          ]
        }
      ]
    },
    {
      "cell_type": "markdown",
      "source": [
        "## 5. Create an array of all the even integers from 20 to 35"
      ],
      "metadata": {
        "id": "gZHHDUBvrMX4"
      }
    },
    {
      "cell_type": "code",
      "source": [
        "import numpy as np\n",
        "a=np.arange(20,35,2)\n",
        "print(a)"
      ],
      "metadata": {
        "id": "oAI2tbU2Yag-",
        "outputId": "60ef21c1-f807-40e3-9f00-bdb6164a0d0e",
        "colab": {
          "base_uri": "https://localhost:8080/"
        }
      },
      "execution_count": 29,
      "outputs": [
        {
          "output_type": "stream",
          "name": "stdout",
          "text": [
            "[20 22 24 26 28 30 32 34]\n"
          ]
        }
      ]
    },
    {
      "cell_type": "markdown",
      "source": [
        "## 6. Create a 3x3 matrix with values ranging from 0 to 8"
      ],
      "metadata": {
        "id": "NaOM308NsRpZ"
      }
    },
    {
      "cell_type": "code",
      "source": [
        "import numpy as np\n",
        "a=np.arange(0,9).reshape(3,3)\n",
        "print(a)"
      ],
      "metadata": {
        "id": "tOlEVH7BYceE",
        "outputId": "3cfa5913-5b31-4493-9bc9-b9acdbb586b3",
        "colab": {
          "base_uri": "https://localhost:8080/"
        }
      },
      "execution_count": 30,
      "outputs": [
        {
          "output_type": "stream",
          "name": "stdout",
          "text": [
            "[[0 1 2]\n",
            " [3 4 5]\n",
            " [6 7 8]]\n"
          ]
        }
      ]
    },
    {
      "cell_type": "markdown",
      "source": [
        "## 7. Concatinate a and b \n",
        "## a = np.array([1, 2, 3]), b = np.array([4, 5, 6])"
      ],
      "metadata": {
        "id": "hQ0dnhAQuU_p"
      }
    },
    {
      "cell_type": "code",
      "source": [],
      "metadata": {
        "id": "rAPSw97aYfE0"
      },
      "execution_count": null,
      "outputs": []
    },
    {
      "cell_type": "markdown",
      "source": [
        "# Pandas"
      ],
      "metadata": {
        "id": "dlPEY9DRwZga"
      }
    },
    {
      "cell_type": "markdown",
      "source": [
        "## 8. Create a dataframe with 3 rows and 2 columns"
      ],
      "metadata": {
        "id": "ijoYW51zwr87"
      }
    },
    {
      "cell_type": "code",
      "source": [
        "import pandas as pd"
      ],
      "metadata": {
        "id": "T5OxJRZ8uvR7"
      },
      "execution_count": 42,
      "outputs": []
    },
    {
      "cell_type": "code",
      "source": [
        "data={'Name':['Anandhi','sudar','kaviyapriya'],'age':['47','29','23']}\n",
        "a=pd.DataFrame(data)\n",
        "print(a)"
      ],
      "metadata": {
        "id": "xNpI_XXoYhs0",
        "outputId": "d7edbba4-b8f8-4ec5-b3b7-9ba97ed3fea3",
        "colab": {
          "base_uri": "https://localhost:8080/"
        }
      },
      "execution_count": 43,
      "outputs": [
        {
          "output_type": "stream",
          "name": "stdout",
          "text": [
            "          Name age\n",
            "0      Anandhi  47\n",
            "1        sudar  29\n",
            "2  kaviyapriya  23\n"
          ]
        }
      ]
    },
    {
      "cell_type": "markdown",
      "source": [
        "## 9. Generate the series of dates from 1st Jan, 2023 to 10th Feb, 2023"
      ],
      "metadata": {
        "id": "UXSmdNclyJQD"
      }
    },
    {
      "cell_type": "code",
      "source": [
        "import datetime\n",
        "import pandas as pd\n",
        "test_date=datetime.datetime.strptime(\"01-01-2023\",\"%d-%m-%Y\")\n",
        "k=41\n",
        "date_generated = pd.date_range(test_date,periods=k)\n",
        "print(date_generated.strftime(\"%d-%m-%Y\"))"
      ],
      "metadata": {
        "id": "dgyC0JhVYl4F",
        "outputId": "6d48b00c-4b8b-4eb2-8698-120f7ddd8aea",
        "colab": {
          "base_uri": "https://localhost:8080/"
        }
      },
      "execution_count": 60,
      "outputs": [
        {
          "output_type": "stream",
          "name": "stdout",
          "text": [
            "Index(['01-01-2023', '02-01-2023', '03-01-2023', '04-01-2023', '05-01-2023',\n",
            "       '06-01-2023', '07-01-2023', '08-01-2023', '09-01-2023', '10-01-2023',\n",
            "       '11-01-2023', '12-01-2023', '13-01-2023', '14-01-2023', '15-01-2023',\n",
            "       '16-01-2023', '17-01-2023', '18-01-2023', '19-01-2023', '20-01-2023',\n",
            "       '21-01-2023', '22-01-2023', '23-01-2023', '24-01-2023', '25-01-2023',\n",
            "       '26-01-2023', '27-01-2023', '28-01-2023', '29-01-2023', '30-01-2023',\n",
            "       '31-01-2023', '01-02-2023', '02-02-2023', '03-02-2023', '04-02-2023',\n",
            "       '05-02-2023', '06-02-2023', '07-02-2023', '08-02-2023', '09-02-2023',\n",
            "       '10-02-2023'],\n",
            "      dtype='object')\n"
          ]
        }
      ]
    },
    {
      "cell_type": "markdown",
      "source": [
        "## 10. Create 2D list to DataFrame\n",
        "\n",
        "lists = [[1, 'aaa', 22],\n",
        "         [2, 'bbb', 25],\n",
        "         [3, 'ccc', 24]]"
      ],
      "metadata": {
        "id": "ZizSetD-y5az"
      }
    },
    {
      "cell_type": "code",
      "source": [
        "lists = [[1, 'aaa', 22], [2, 'bbb', 25], [3, 'ccc', 24]]"
      ],
      "metadata": {
        "id": "_XMC8aEt0llB"
      },
      "execution_count": 61,
      "outputs": []
    },
    {
      "cell_type": "code",
      "source": [
        "a=pd.DataFrame(lists,columns=['No','Letter','Numbers'])\n",
        "print(a)"
      ],
      "metadata": {
        "id": "knH76sDKYsVX",
        "outputId": "d9fd3941-0c96-40ea-a06f-e908928ffbfb",
        "colab": {
          "base_uri": "https://localhost:8080/"
        }
      },
      "execution_count": 62,
      "outputs": [
        {
          "output_type": "stream",
          "name": "stdout",
          "text": [
            "   No Letter  Numbers\n",
            "0   1    aaa       22\n",
            "1   2    bbb       25\n",
            "2   3    ccc       24\n"
          ]
        }
      ]
    }
  ]
}